{
  "nbformat": 4,
  "nbformat_minor": 0,
  "metadata": {
    "colab": {
      "provenance": [],
      "authorship_tag": "ABX9TyOexbE2sXDkUFCissQbJw4i",
      "include_colab_link": true
    },
    "kernelspec": {
      "name": "python3",
      "display_name": "Python 3"
    },
    "language_info": {
      "name": "python"
    }
  },
  "cells": [
    {
      "cell_type": "markdown",
      "metadata": {
        "id": "view-in-github",
        "colab_type": "text"
      },
      "source": [
        "<a href=\"https://colab.research.google.com/github/AnshumanAryan24/AlphaPro-SemEval2025-Task8/blob/main/notebooks/AlphaProQA.ipynb\" target=\"_parent\"><img src=\"https://colab.research.google.com/assets/colab-badge.svg\" alt=\"Open In Colab\"/></a>"
      ]
    },
    {
      "cell_type": "markdown",
      "source": [
        "# AlphaPro at SemEval2025-Task 8\n",
        "\n",
        "getAnswer() Function:\n",
        "- Inputs:\n",
        "<table style=\"border: none;\">\n",
        "      <tr>\n",
        "        <td style=\"border: none;\">Input Element</td>\n",
        "        <td style=\"border: none;\">Type</td>\n",
        "      </tr>\n",
        "      <tr>\n",
        "        <td>Question:</td>\n",
        "        <td><code>str</code></td>\n",
        "      </tr>\n",
        "      <tr>\n",
        "        <td>Dataset:</td>\n",
        "        <td><code>pandas.DataFrame</code></td>\n",
        "      </tr>\n",
        "      </table>\n",
        "\n",
        "- Outputs:\n",
        "<table style=\"border-collapse: collapse; border: none;\">\n",
        "  <tr>\n",
        "    <td style=\"border: none;\">Output Element</td>\n",
        "    <td style=\"border: none;\">Type</td>\n",
        "  </tr>\n",
        "  <tr>\n",
        "    <td style=\"border: none;\">Original Question</td>\n",
        "    <td style=\"border: none;\"><code>str</code></td>\n",
        "  </tr>\n",
        "  <tr>\n",
        "    <td style=\"border: none;\">Paraphrased Question</td>\n",
        "    <td style=\"border: none;\"><code>str</code></td>\n",
        "  </tr>\n",
        "  <tr>\n",
        "    <td style=\"border: none;\">Code</td>\n",
        "    <td style=\"border: none;\"><code>str</code></td>\n",
        "  </tr>\n",
        "  <tr>\n",
        "    <td style=\"border: none;\">Expected Answer <br>Type</td>\n",
        "    <td style=\"border: none;\"><code>str</code></td>\n",
        "  </tr>\n",
        "  <tr>\n",
        "    <td style=\"border: none;\">Output <br>(Actual Answer)</td>\n",
        "    <td style=\"border: none;\"><code>Any</code></td>\n",
        "  </tr>\n",
        "</table>\n",
        "\n",
        "Question Answering Logic:\n",
        "- **Step 1:**\n",
        "  - Get the dataset schema from the `pandas.DataFrame` object of the dataset.\n",
        "- **Step 2:**\n",
        "  - Rewrite the given question using an LLM so that the paraphrased question now uses the table schema in its wording.\n",
        "  - Predict the expected answer type.\n",
        "- **Step 3:**\n",
        "  - Generate Python code (fill the function given in the prompt) for answering the paraphrased question, given the dataset, schema and expected answer type.\n",
        "- **Step 4:**\n",
        "  - Extract the Python function into the current namespace for execution. This function is deleted after execution for clean environment.\n",
        "- **Step 5:**\n",
        "  - Run the function and report answer or error accordingly."
      ],
      "metadata": {
        "id": "OOE27RVU5YED"
      }
    },
    {
      "cell_type": "markdown",
      "metadata": {
        "id": "YQhMY5rRa7lp"
      },
      "source": [
        "## Importing libraries"
      ]
    },
    {
      "cell_type": "code",
      "execution_count": null,
      "metadata": {
        "collapsed": true,
        "id": "TiEBOdLsffs8"
      },
      "outputs": [],
      "source": [
        "!pip install cohere"
      ]
    },
    {
      "cell_type": "code",
      "execution_count": null,
      "metadata": {
        "id": "oqCZwpNWa6AT"
      },
      "outputs": [],
      "source": [
        "import pandas as pd\n",
        "import cohere"
      ]
    },
    {
      "cell_type": "code",
      "execution_count": null,
      "metadata": {
        "id": "keZffa2OTsPb"
      },
      "outputs": [],
      "source": [
        "from google.colab import userdata"
      ]
    },
    {
      "cell_type": "markdown",
      "metadata": {
        "id": "JhgYNEGDbXws"
      },
      "source": [
        "### Loading the model"
      ]
    },
    {
      "cell_type": "code",
      "execution_count": null,
      "metadata": {
        "id": "FD1nO6e6fqDm"
      },
      "outputs": [],
      "source": [
        "coAnswer = cohere.ClientV2(api_key=userdata.get('CO_API_KEY_1'))\n",
        "coRewrite = cohere.ClientV2(api_key=userdata.get('CO_API_KEY_2'))"
      ]
    },
    {
      "cell_type": "markdown",
      "metadata": {
        "id": "ICoR5O0da-6C"
      },
      "source": [
        "## Rewriting the question and predicting answer data type"
      ]
    },
    {
      "cell_type": "code",
      "execution_count": null,
      "metadata": {
        "id": "NvOozfJ3mRur"
      },
      "outputs": [],
      "source": [
        "rewrite_prompt = \"\"\"You will be provided with two pieces of information. The first being a question and the second being the column names along with data types of a dataset. Your objective is twofold, the first to predict the datatype of the answer and second to paraphrase the question aptly such that the next person could generate the python code to required to answer the question while keeping the answer type the same as the given question. You are provided a two examples below.\n",
        "Remember to not change what the original question is actually asking.\n",
        "\n",
        "Few Shot Examples:\n",
        "Question: Is the person with the highest net worth self-made?\n",
        "Dataset Name: 001_Forbes\n",
        "Dataset Table Schema: selfMade (bool), finalWorth (int64), city (string), title (string), gender (string), age (float64), rank (int64), philanthropyScore (float64), category (string), source (string), country (string)\n",
        "Answer Type: bool\n",
        "Paraphrased Question: Does the billionaire with the maximum final worth have self made attribute set to True?\n",
        "\n",
        "Question: Did any children below the age of 18 survive?\n",
        "Dataset Name: 002_Titanic\n",
        "Dataset Table Schema: Age (float64), Siblings_Spouses Aboard (int64), Sex (string), Name (string), Pclass (int64), Fare (float64), Survived (bool)\n",
        "Answer Type: bool\n",
        "Paraphrased Question: Were there any survivors aged under 18?\n",
        "\n",
        "Instruction for you to perform:\n",
        "\"\"\""
      ]
    },
    {
      "cell_type": "code",
      "execution_count": null,
      "metadata": {
        "id": "4m0_2cdT-Ct2"
      },
      "outputs": [],
      "source": [
        "def processQuestion(cohereChat:cohere.ClientV2, question:str, dataset_name:str, schema:str) -> str:\n",
        "  '''\n",
        "  Process the question and return predicted answer type and paraphrased question, in that order.\n",
        "  Parameter 'schema' is a comma separated list of strings - column name (column data type).\n",
        "  '''\n",
        "  # Prepare prompt\n",
        "  prompt = rewrite_prompt + \\\n",
        "  f'''Question: {question}\n",
        "  Dataset: {dataset_name}\n",
        "  Dataset Table Schema: {schema}\n",
        "  '''\n",
        "  # Generate response using Cohere API\n",
        "  response = cohereChat.chat(\n",
        "        model=\"command-r-plus-08-2024\",\n",
        "        messages=[{\"role\": \"user\", \"content\": prompt}],\n",
        "    )\n",
        "  # Extract answer type and paraphrased question\n",
        "  answer_type = response.message.content[0].text.split(\"\\n\")[0][0]\n",
        "  if(answer_type[0] == 'A'):\n",
        "    answer_type = response.message.content[0].text.split(\"\\n\")[0][13:]\n",
        "    paraphrased_question = response.message.content[0].text.split(\"\\n\")[1][22:]\n",
        "  else:\n",
        "    answer_type = response.message.content[0].text.split(\"\\n\")[1][13:]\n",
        "    paraphrased_question = response.message.content[0].text.split(\"\\n\")[0][22:]\n",
        "\n",
        "  return answer_type, paraphrased_question"
      ]
    },
    {
      "cell_type": "markdown",
      "metadata": {
        "id": "NGpFQ9FwbdI2"
      },
      "source": [
        "## Generating the code"
      ]
    },
    {
      "cell_type": "code",
      "execution_count": null,
      "metadata": {
        "id": "ZpaJ4f26iB5-"
      },
      "outputs": [],
      "source": [
        "codegen_prompt = '''You will be provided four pieces of information all of which are provided in the means of strings.\n",
        "1. Dataset name:\n",
        "2. Dataset Table Schema:\n",
        "3. Question:\n",
        "4. Expected Answer Type:\n",
        "\n",
        "Your objective is to create a python code to answer the question given the dataset schema. Here is the function you will be needing to complete:\n",
        "def answer_question(db:, datasetTableSchema, question, expectedAnswerType):\n",
        "\tanswer = (Here you generate the code which is needed to find the answer)\n",
        "\treturn answer\n",
        "\n",
        "Assume that the pandas library has been imported as pd.\n",
        "Your answer should only contain the function definition. Assume that the dataset schema (containing column names and their datatypes in paranthesis) given is correct. The generated code should be correct. Do not attempt to change the dataset.\n",
        "Your final answer data type should be one of the following categories:\n",
        "1. Boolean: One of True or False.\n",
        "2. Category: A string. For example - CEO, hello, drugstores.\n",
        "3. Number: A numerical value. For example - 20, 23.3223, 414901.0.\n",
        "4. list[category]: A list of strings. For example - ['India', 'Japan', 'China'], ['Ram', 'Shyam', 'Mohan']. Here, each entry should be enclosed within single quotes.\n",
        "5. list[number]: A list of numbers. For example - [20.0, 30.4, 42.1], [171000, 129000, 111000, 107000, 106000, 91400].\n",
        "When the question requests more than value, the expected answer type might be a list of strings or numbers. Ensure that lists are enclosed within square brackets.\n",
        "\n",
        "Few Shot Examples:\n",
        "Example 1:\n",
        "1. Dataset name: 001_Forbes\n",
        "2. Dataset Table Schema: selfMade (bool), finalWorth (int64), city (string), title (string), gender (string), age (float64), rank (int64), philanthropyScore (float64), category (string), source (string), country (string)\n",
        "3. Question: Does the individual with the highest final worth value have the selfMade attribute set to True?\n",
        "4. Expected Answer Type: bool\n",
        "\n",
        "Answer:\n",
        "def answer_question(dataset, datasetTableSchema, question, expectedAnswerType):\n",
        "\tmax_worth_individual = dataset.loc[dataset[\"finalWorth\"] == dataset[\"finalWorth\"].max()]\n",
        "\tis_self_made = max_worth_individual[\"selfMade\"].bool()\n",
        "\n",
        "\treturn is_self_made\n",
        "\n",
        "Now, complete the following:'''"
      ]
    },
    {
      "cell_type": "code",
      "execution_count": null,
      "metadata": {
        "id": "UVh3VoubTXOh"
      },
      "outputs": [],
      "source": [
        "def generateCode(cohereChat:cohere.ClientV2, question:str, metaData:dict) -> str:\n",
        "  '''\n",
        "  Generate code string for answering the paraphrased question.\n",
        "  Parameter 'metaData' dictionary:\n",
        "    'dataset_name': str,\n",
        "    'columns': list[str],\n",
        "    'answer_type': str\n",
        "  '''\n",
        "  codeResponse = cohereChat.chat(\n",
        "      model=\"command-r-plus-08-2024\",\n",
        "      messages=[{\"role\": \"user\", \"content\": codegen_prompt + f'''\n",
        "1. Dataset name: {metaData['dataset_name']}\n",
        "2. Dataset Table Schema: {str(metaData['columns'])[1:-1]}\n",
        "3. Question: {question}\n",
        "4. Expected Answer Type: {metaData['answer_type']}'''\n",
        "                }])\n",
        "\n",
        "  text = codeResponse.message.content[0].text\n",
        "  text = text.strip(\"```\").lstrip(\"python\\n\")\n",
        "  return text"
      ]
    },
    {
      "cell_type": "markdown",
      "metadata": {
        "id": "ekSxBXlzgHpV"
      },
      "source": [
        "## Extracting code from the code-string for running"
      ]
    },
    {
      "cell_type": "code",
      "execution_count": null,
      "metadata": {
        "id": "gz-D8Ctuf8-y"
      },
      "outputs": [],
      "source": [
        "def extractFunctionFromString(function_str:str):\n",
        "    '''\n",
        "    Take a string containing a function named 'answer_question' and return the function in scope.\n",
        "    The function will have access to local and global variables.\n",
        "    '''\n",
        "    namespace = {**globals(), **locals()}\n",
        "    exec(function_str, namespace)\n",
        "    return namespace['answer_question']  # 'answer_question' is the default name in the code string"
      ]
    },
    {
      "cell_type": "markdown",
      "metadata": {
        "id": "-mus00y0lSUz"
      },
      "source": [
        "## Main"
      ]
    },
    {
      "cell_type": "markdown",
      "metadata": {
        "id": "2JEcMHgJmvmp"
      },
      "source": [
        "### Getting the dataset schema"
      ]
    },
    {
      "cell_type": "code",
      "execution_count": null,
      "metadata": {
        "id": "2QZy59vKmxs1"
      },
      "outputs": [],
      "source": [
        "def getDatasetSchema(df:pd.DataFrame) -> list[str]:\n",
        "  '''\n",
        "  Get the dataset schema from the pandas.DataFrame object.\n",
        "  List entry is - column name (column data type)\n",
        "  '''\n",
        "  schema = df.dtypes\n",
        "  schema_string = \"\"\n",
        "  for col, dtype in schema.items():\n",
        "      if dtype == \"bool\":\n",
        "          dtype_name = \"bool\"\n",
        "      elif dtype == \"int64\":\n",
        "          dtype_name = \"int64\"\n",
        "      elif dtype == \"double\":\n",
        "          dtype_name = \"float64\"\n",
        "      elif dtype == \"object\":\n",
        "          dtype_name = \"string\"\n",
        "      else:\n",
        "          dtype_name = dtype.name\n",
        "\n",
        "      schema_string += f\"{col} ({dtype_name}), \"\n",
        "  # Remove the trailing comma and space\n",
        "  schema_string = schema_string.rstrip(\", \")\n",
        "  return schema_string.split(\", \")"
      ]
    },
    {
      "cell_type": "markdown",
      "metadata": {
        "id": "LFCMS1x3fzOI"
      },
      "source": [
        "### Final function to get answer"
      ]
    },
    {
      "cell_type": "code",
      "execution_count": null,
      "metadata": {
        "id": "XPL_Ff_V87j7"
      },
      "outputs": [],
      "source": [
        "def getAnswer(cohereChatAnswer:cohere.ClientV2, cohereChatRewrite:cohere.ClientV2, question:str, datasetMetaData:dict) -> str:\n",
        "  '''\n",
        "  Get final answer along with state information given a question in natural language and a dataset.\n",
        "  Parameter 'datasetMetaData' dictionary:\n",
        "    'dataset': pandas.DataFrame,\n",
        "    'dataset_name': str\n",
        "\n",
        "  Output dictionary:\n",
        "    'original_question' : str,\n",
        "    'rewritten_question' : str,\n",
        "    'code' : str,  (code string)\n",
        "    'answer_type' : str,  (predicted answer type in a string)\n",
        "    'output' : Any  (actual answer - data type of this object depends on the code generated and the question, but the data type of the entity this represents is indicated in 'answer_type' entry)\n",
        "  '''\n",
        "  newQuestion = ''\n",
        "  codeString = ''\n",
        "  answerType = None\n",
        "  output = '-'\n",
        "  try:\n",
        "    columns = getDatasetSchema(datasetMetaData['dataset'])\n",
        "    datasetMetaData['columns'] = columns\n",
        "\n",
        "    answerType, newQuestion = processQuestion(cohereChatRewrite, question, datasetMetaData['dataset_name'], str(columns)[1:-1])\n",
        "    datasetMetaData['answer_type'] = answerType\n",
        "\n",
        "    codeString = generateCode(cohereChatAnswer, newQuestion, datasetMetaData)\n",
        "\n",
        "    function = extractFunctionFromString(codeString)\n",
        "\n",
        "    output = function(datasetMetaData['dataset'], columns, newQuestion, datasetMetaData['answer_type'])\n",
        "    del function\n",
        "  except Exception as e:\n",
        "    print(f\"Error: {e}\\nQuestion: {question}\")\n",
        "    output = '-'\n",
        "\n",
        "  return {\n",
        "      'original_question' : question,\n",
        "      'rewritten_question' : newQuestion,\n",
        "      'code' : codeString,\n",
        "      'answer_type' : answerType,\n",
        "      'output' : output\n",
        "  }"
      ]
    }
  ]
}